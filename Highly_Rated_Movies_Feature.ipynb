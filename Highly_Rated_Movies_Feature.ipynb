{
 "cells": [
  {
   "cell_type": "code",
   "execution_count": 1,
   "id": "654d95e8",
   "metadata": {},
   "outputs": [],
   "source": [
    "import pandas as pd\n",
    "fp = \"data/u.data\"\n",
    "df = pd.read_csv(fp, sep=\"\\t\", header=None)\n",
    "df.columns = [\"userID\", \"itemID\", \"rating\", \"timestamp\"]"
   ]
  },
  {
   "cell_type": "code",
   "execution_count": 2,
   "id": "ee0a6ea4",
   "metadata": {},
   "outputs": [
    {
     "data": {
      "text/plain": [
       "userID       int64\n",
       "itemID       int64\n",
       "rating       int64\n",
       "timestamp    int64\n",
       "dtype: object"
      ]
     },
     "execution_count": 2,
     "metadata": {},
     "output_type": "execute_result"
    }
   ],
   "source": [
    "df.dtypes"
   ]
  },
  {
   "cell_type": "code",
   "execution_count": 3,
   "id": "197eb399",
   "metadata": {},
   "outputs": [],
   "source": [
    "from datetime import datetime\n",
    "type_info = {\"userID\": str , \"itemID\": str, \"rating\": int}\n",
    "df = df.astype(type_info)"
   ]
  },
  {
   "cell_type": "code",
   "execution_count": 4,
   "id": "639db43c",
   "metadata": {},
   "outputs": [],
   "source": [
    "df_mr = df.groupby(by=[\"itemID\"])[\"rating\"].mean().to_frame()"
   ]
  },
  {
   "cell_type": "code",
   "execution_count": 5,
   "id": "02014e40",
   "metadata": {},
   "outputs": [],
   "source": [
    "import numpy as np\n",
    "df_mr[\"poor_rating\"] = np.where(df_mr[\"rating\"] < 3, 1, 0) "
   ]
  },
  {
   "cell_type": "code",
   "execution_count": 6,
   "id": "d775d55a",
   "metadata": {},
   "outputs": [
    {
     "data": {
      "text/plain": [
       "count    1682.000000\n",
       "mean        0.373365\n",
       "std         0.483842\n",
       "min         0.000000\n",
       "25%         0.000000\n",
       "50%         0.000000\n",
       "75%         1.000000\n",
       "max         1.000000\n",
       "Name: poor_rating, dtype: float64"
      ]
     },
     "execution_count": 6,
     "metadata": {},
     "output_type": "execute_result"
    }
   ],
   "source": [
    "df_mr[\"poor_rating\"].describe()"
   ]
  },
  {
   "cell_type": "code",
   "execution_count": 7,
   "id": "9922720a",
   "metadata": {},
   "outputs": [],
   "source": [
    "fp = \"data/u.item\"\n",
    "df_movie = pd.read_csv(fp, sep = '|', encoding = \"ISO-8859-1\", header= None)\n",
    "\n",
    "movie_attr_cols = [\"itemID\", \"title\", \"release_date\", \"video_release_date\", \"IMDB_URL\", \"G_UNKNOWN\", \"G_ACTION\",\\\n",
    "              \"G_ADVENTURE\", \"G_ANIMATION\", \"G_CHILDREN\", \"G_COMEDY\", \"G_CRIME\", \"G_DOCUMENTARY\", \"G_DRAMA\",\\\n",
    "              \"G_FANTASY\", \"G_FILM_NOIR\", \"G_HORROR\", \"G_MUISICAL\", \"G_MYSTERY\", \"G_ROMANCE\", \"G_SCIFI\", \"G_THRILLER\",\\\n",
    "              \"G_WAR\", \"G_WESTERN\"]\n",
    "df_movie.columns = movie_attr_cols\n",
    "\n",
    "df_movie[\"itemID\"] = df_movie[\"itemID\"].astype(str)"
   ]
  },
  {
   "cell_type": "code",
   "execution_count": 8,
   "id": "187fa06e",
   "metadata": {},
   "outputs": [],
   "source": [
    "df_movie_fe = pd.merge(df_movie, df_mr, on=\"itemID\")"
   ]
  },
  {
   "cell_type": "code",
   "execution_count": 9,
   "id": "05a0d2d5",
   "metadata": {},
   "outputs": [],
   "source": [
    "cn = df_movie_fe.columns.tolist()\n",
    "cn.remove(\"video_release_date\")\n",
    "df_movie_fe = df_movie_fe[cn]"
   ]
  },
  {
   "cell_type": "code",
   "execution_count": 10,
   "id": "72cb1f1b",
   "metadata": {},
   "outputs": [],
   "source": [
    "fp = \"data/u.item.fe\"\n",
    "df_movie_fe.to_csv(fp, index=False)"
   ]
  },
  {
   "cell_type": "code",
   "execution_count": 11,
   "id": "f06a0ede",
   "metadata": {},
   "outputs": [
    {
     "data": {
      "text/html": [
       "<div>\n",
       "<style scoped>\n",
       "    .dataframe tbody tr th:only-of-type {\n",
       "        vertical-align: middle;\n",
       "    }\n",
       "\n",
       "    .dataframe tbody tr th {\n",
       "        vertical-align: top;\n",
       "    }\n",
       "\n",
       "    .dataframe thead th {\n",
       "        text-align: right;\n",
       "    }\n",
       "</style>\n",
       "<table border=\"1\" class=\"dataframe\">\n",
       "  <thead>\n",
       "    <tr style=\"text-align: right;\">\n",
       "      <th></th>\n",
       "      <th>itemID</th>\n",
       "      <th>title</th>\n",
       "      <th>release_date</th>\n",
       "      <th>IMDB_URL</th>\n",
       "      <th>G_UNKNOWN</th>\n",
       "      <th>G_ACTION</th>\n",
       "      <th>G_ADVENTURE</th>\n",
       "      <th>G_ANIMATION</th>\n",
       "      <th>G_CHILDREN</th>\n",
       "      <th>G_COMEDY</th>\n",
       "      <th>...</th>\n",
       "      <th>G_HORROR</th>\n",
       "      <th>G_MUISICAL</th>\n",
       "      <th>G_MYSTERY</th>\n",
       "      <th>G_ROMANCE</th>\n",
       "      <th>G_SCIFI</th>\n",
       "      <th>G_THRILLER</th>\n",
       "      <th>G_WAR</th>\n",
       "      <th>G_WESTERN</th>\n",
       "      <th>rating</th>\n",
       "      <th>poor_rating</th>\n",
       "    </tr>\n",
       "  </thead>\n",
       "  <tbody>\n",
       "    <tr>\n",
       "      <th>0</th>\n",
       "      <td>1</td>\n",
       "      <td>Toy Story (1995)</td>\n",
       "      <td>01-Jan-1995</td>\n",
       "      <td>http://us.imdb.com/M/title-exact?Toy%20Story%2...</td>\n",
       "      <td>0</td>\n",
       "      <td>0</td>\n",
       "      <td>0</td>\n",
       "      <td>1</td>\n",
       "      <td>1</td>\n",
       "      <td>1</td>\n",
       "      <td>...</td>\n",
       "      <td>0</td>\n",
       "      <td>0</td>\n",
       "      <td>0</td>\n",
       "      <td>0</td>\n",
       "      <td>0</td>\n",
       "      <td>0</td>\n",
       "      <td>0</td>\n",
       "      <td>0</td>\n",
       "      <td>3.878319</td>\n",
       "      <td>0</td>\n",
       "    </tr>\n",
       "    <tr>\n",
       "      <th>1</th>\n",
       "      <td>2</td>\n",
       "      <td>GoldenEye (1995)</td>\n",
       "      <td>01-Jan-1995</td>\n",
       "      <td>http://us.imdb.com/M/title-exact?GoldenEye%20(...</td>\n",
       "      <td>0</td>\n",
       "      <td>1</td>\n",
       "      <td>1</td>\n",
       "      <td>0</td>\n",
       "      <td>0</td>\n",
       "      <td>0</td>\n",
       "      <td>...</td>\n",
       "      <td>0</td>\n",
       "      <td>0</td>\n",
       "      <td>0</td>\n",
       "      <td>0</td>\n",
       "      <td>0</td>\n",
       "      <td>1</td>\n",
       "      <td>0</td>\n",
       "      <td>0</td>\n",
       "      <td>3.206107</td>\n",
       "      <td>0</td>\n",
       "    </tr>\n",
       "    <tr>\n",
       "      <th>2</th>\n",
       "      <td>3</td>\n",
       "      <td>Four Rooms (1995)</td>\n",
       "      <td>01-Jan-1995</td>\n",
       "      <td>http://us.imdb.com/M/title-exact?Four%20Rooms%...</td>\n",
       "      <td>0</td>\n",
       "      <td>0</td>\n",
       "      <td>0</td>\n",
       "      <td>0</td>\n",
       "      <td>0</td>\n",
       "      <td>0</td>\n",
       "      <td>...</td>\n",
       "      <td>0</td>\n",
       "      <td>0</td>\n",
       "      <td>0</td>\n",
       "      <td>0</td>\n",
       "      <td>0</td>\n",
       "      <td>1</td>\n",
       "      <td>0</td>\n",
       "      <td>0</td>\n",
       "      <td>3.033333</td>\n",
       "      <td>0</td>\n",
       "    </tr>\n",
       "    <tr>\n",
       "      <th>3</th>\n",
       "      <td>4</td>\n",
       "      <td>Get Shorty (1995)</td>\n",
       "      <td>01-Jan-1995</td>\n",
       "      <td>http://us.imdb.com/M/title-exact?Get%20Shorty%...</td>\n",
       "      <td>0</td>\n",
       "      <td>1</td>\n",
       "      <td>0</td>\n",
       "      <td>0</td>\n",
       "      <td>0</td>\n",
       "      <td>1</td>\n",
       "      <td>...</td>\n",
       "      <td>0</td>\n",
       "      <td>0</td>\n",
       "      <td>0</td>\n",
       "      <td>0</td>\n",
       "      <td>0</td>\n",
       "      <td>0</td>\n",
       "      <td>0</td>\n",
       "      <td>0</td>\n",
       "      <td>3.550239</td>\n",
       "      <td>0</td>\n",
       "    </tr>\n",
       "    <tr>\n",
       "      <th>4</th>\n",
       "      <td>5</td>\n",
       "      <td>Copycat (1995)</td>\n",
       "      <td>01-Jan-1995</td>\n",
       "      <td>http://us.imdb.com/M/title-exact?Copycat%20(1995)</td>\n",
       "      <td>0</td>\n",
       "      <td>0</td>\n",
       "      <td>0</td>\n",
       "      <td>0</td>\n",
       "      <td>0</td>\n",
       "      <td>0</td>\n",
       "      <td>...</td>\n",
       "      <td>0</td>\n",
       "      <td>0</td>\n",
       "      <td>0</td>\n",
       "      <td>0</td>\n",
       "      <td>0</td>\n",
       "      <td>1</td>\n",
       "      <td>0</td>\n",
       "      <td>0</td>\n",
       "      <td>3.302326</td>\n",
       "      <td>0</td>\n",
       "    </tr>\n",
       "  </tbody>\n",
       "</table>\n",
       "<p>5 rows × 25 columns</p>\n",
       "</div>"
      ],
      "text/plain": [
       "  itemID              title release_date  \\\n",
       "0      1   Toy Story (1995)  01-Jan-1995   \n",
       "1      2   GoldenEye (1995)  01-Jan-1995   \n",
       "2      3  Four Rooms (1995)  01-Jan-1995   \n",
       "3      4  Get Shorty (1995)  01-Jan-1995   \n",
       "4      5     Copycat (1995)  01-Jan-1995   \n",
       "\n",
       "                                            IMDB_URL  G_UNKNOWN  G_ACTION  \\\n",
       "0  http://us.imdb.com/M/title-exact?Toy%20Story%2...          0         0   \n",
       "1  http://us.imdb.com/M/title-exact?GoldenEye%20(...          0         1   \n",
       "2  http://us.imdb.com/M/title-exact?Four%20Rooms%...          0         0   \n",
       "3  http://us.imdb.com/M/title-exact?Get%20Shorty%...          0         1   \n",
       "4  http://us.imdb.com/M/title-exact?Copycat%20(1995)          0         0   \n",
       "\n",
       "   G_ADVENTURE  G_ANIMATION  G_CHILDREN  G_COMEDY  ...  G_HORROR  G_MUISICAL  \\\n",
       "0            0            1           1         1  ...         0           0   \n",
       "1            1            0           0         0  ...         0           0   \n",
       "2            0            0           0         0  ...         0           0   \n",
       "3            0            0           0         1  ...         0           0   \n",
       "4            0            0           0         0  ...         0           0   \n",
       "\n",
       "   G_MYSTERY  G_ROMANCE  G_SCIFI  G_THRILLER  G_WAR  G_WESTERN    rating  \\\n",
       "0          0          0        0           0      0          0  3.878319   \n",
       "1          0          0        0           1      0          0  3.206107   \n",
       "2          0          0        0           1      0          0  3.033333   \n",
       "3          0          0        0           0      0          0  3.550239   \n",
       "4          0          0        0           1      0          0  3.302326   \n",
       "\n",
       "   poor_rating  \n",
       "0            0  \n",
       "1            0  \n",
       "2            0  \n",
       "3            0  \n",
       "4            0  \n",
       "\n",
       "[5 rows x 25 columns]"
      ]
     },
     "execution_count": 11,
     "metadata": {},
     "output_type": "execute_result"
    }
   ],
   "source": [
    "df_movie_fe.head()"
   ]
  },
  {
   "cell_type": "code",
   "execution_count": null,
   "id": "8a657d6d",
   "metadata": {},
   "outputs": [],
   "source": []
  }
 ],
 "metadata": {
  "kernelspec": {
   "display_name": "Python 3 (ipykernel)",
   "language": "python",
   "name": "python3"
  },
  "language_info": {
   "codemirror_mode": {
    "name": "ipython",
    "version": 3
   },
   "file_extension": ".py",
   "mimetype": "text/x-python",
   "name": "python",
   "nbconvert_exporter": "python",
   "pygments_lexer": "ipython3",
   "version": "3.7.6"
  }
 },
 "nbformat": 4,
 "nbformat_minor": 5
}
